{
 "cells": [
  {
   "cell_type": "code",
   "execution_count": 1,
   "metadata": {},
   "outputs": [],
   "source": [
    "source config.sh"
   ]
  },
  {
   "cell_type": "code",
   "execution_count": 3,
   "metadata": {},
   "outputs": [
    {
     "name": "stdout",
     "output_type": "stream",
     "text": [
      "/home/jovyan/work/DATA/fastq_cbb520_hw3\n",
      "/home/jovyan/work/DATA/fastq_cbb520_hw3/assignment_3\n",
      "/home/jovyan/work/DATA/fastq_cbb520_hw3/fastqs_trimmed\n",
      "/home/jovyan/work/DATA/fastq_cbb520_hw3/fastqs_filter\n",
      "/home/jovyan/work/DATA/fastq_cbb520_hw3/pipeline_bwa\n",
      "/home/jovyan/work/DATA/fastq_cbb520_hw3/pipeline_bwa/genome\n",
      "Canis_familiaris.CanFam3.1.98.gtf\n",
      "Canis_familiaris.CanFam3.1.dna.chromosome.MT.fa\n",
      "/home/jovyan/work/DATA/fastq_cbb520_hw3/pipeline_bwa/out_bwa\n",
      "/home/jovyan/work/DATA/fastq_cbb520_hw3/pipeline_bwa/out_qc_raw\n",
      "/home/jovyan/work/DATA/fastq_cbb520_hw3/pipeline_bwa/out_qc_trimmed\n",
      "/home/jovyan/work/DATA/fastq_cbb520_hw3/pipeline_bwa/out_qc_filter\n",
      "/home/jovyan/work/DATA/fastq_cbb520_hw3/pipeline_bwa/out_count\n",
      "/home/jovyan/work/DATA/fastq_cbb520_hw3/pipeline_bwa/out_igv\n",
      "/home/jovyan/work/DATA/fastq_cbb520_hw3/pipeline_bwa/figure\n",
      "6\n",
      "/home/jovyan/work/DATA/fastq_cbb520_hw3/pipeline_bwa/adapters.fasta\n"
     ]
    }
   ],
   "source": [
    "### Directories for Data and results\n",
    "echo $DATA_BASE\n",
    "echo $FASTQS_RAW\n",
    "echo $FASTQS_TRIMMED\n",
    "echo $FASTQS_FILTER\n",
    "\n",
    "### Directories fo working directory\n",
    "echo $CUROUT\n",
    "\n",
    "### Genome: Canis Family Mitochondria\n",
    "echo $GENOME\n",
    "echo $GTF\n",
    "echo $FA\n",
    "\n",
    "### Output\n",
    "echo $OUT_BWA\n",
    "echo $OUT_QC_RAW\n",
    "echo $OUT_QC_TRIMMED\n",
    "echo $OUT_QC_FILTER\n",
    "echo $QUT_COUNT\n",
    "echo $OUT_IGV\n",
    "echo $OUT_FIG\n",
    "\n",
    "### Arguments\n",
    "echo $THREADS\n",
    "echo $ADAPTERS"
   ]
  },
  {
   "cell_type": "code",
   "execution_count": 5,
   "metadata": {},
   "outputs": [],
   "source": [
    "### Directories for Data and results\n",
    "mkdir -p $FASTQS_TRIMMED\n",
    "mkdir -p $FASTQS_FILTER\n",
    "mkdir -p $OUT_BWA\n",
    "\n",
    "### Genome: Canis Family Mitochondria\n",
    "mkdir -p $GENOME\n",
    "\n",
    "### Directories fo working directory\n",
    "mkdir -p $CUROUT\n",
    "\n",
    "### Output\n",
    "mkdir -p $OUT_QC_RAW\n",
    "mkdir -p $OUT_QC_TRIMMED\n",
    "mkdir -p $OUT_QC_FILTER\n",
    "mkdir -p $QUT_COUNT\n",
    "mkdir -p $OUT_IGV\n",
    "mkdir -p $OUT_FIG"
   ]
  },
  {
   "cell_type": "code",
   "execution_count": 6,
   "metadata": {},
   "outputs": [
    {
     "name": "stdout",
     "output_type": "stream",
     "text": [
      "\u001b[0m\u001b[34;42massignment_3\u001b[0m\n",
      "\u001b[34;42mfastqs_filter\u001b[0m\n",
      "\u001b[34;42mfastqs_trimmed\u001b[0m\n",
      "\u001b[34;42mgenome\u001b[0m\n",
      "\u001b[34;42mout_star\u001b[0m\n",
      "\u001b[34;42mpipeline_bwa\u001b[0m\n"
     ]
    }
   ],
   "source": [
    "ls -1 $DATA_BASE"
   ]
  },
  {
   "cell_type": "code",
   "execution_count": 7,
   "metadata": {},
   "outputs": [
    {
     "name": "stdout",
     "output_type": "stream",
     "text": [
      "total 23G\n",
      "-rwxrwxrwx 1 root root 394M Nov  6 13:39 \u001b[0m\u001b[01;32mERR1994755.fastq\u001b[0m\n",
      "-rwxrwxrwx 1 root root 108M Nov  5 05:36 \u001b[01;32mERR1994755.fastq.gz\u001b[0m\n",
      "-rwxrwxrwx 1 root root  16M Nov  5 05:42 \u001b[01;32mERR1994756.fastq.gz\u001b[0m\n",
      "-rwxrwxrwx 1 root root 1.7G Nov  5 05:40 \u001b[01;32mERR1994757.fastq.gz\u001b[0m\n",
      "-rwxrwxrwx 1 root root 2.7G Nov  5 05:40 \u001b[01;32mERR1994763.fastq.gz\u001b[0m\n",
      "-rwxrwxrwx 1 root root 151M Nov  5 05:42 \u001b[01;32mERR1994764.fastq.gz\u001b[0m\n",
      "-rwxrwxrwx 1 root root 6.9G Nov  5 05:36 \u001b[01;32mERR1994765.fastq.gz\u001b[0m\n",
      "-rwxrwxrwx 1 root root 6.3K Nov  5 05:37 \u001b[01;32mfastq_file_info\u001b[0m\n",
      "-rwxrwxrwx 1 root root  985 Nov  5 05:36 \u001b[01;32mget_fastq_files\u001b[0m\n",
      "-rwxrwxrwx 1 root root  492 Nov  5 05:38 \u001b[01;32mget_fastq_files2\u001b[0m\n",
      "-rwxrwxrwx 1 root root 367K Nov  5 05:36 \u001b[01;32mNEB_adapter_manualE7335.pdf\u001b[0m\n",
      "-rwxrwxrwx 1 root root  34M Nov  5 05:38 \u001b[01;32mnohup.out\u001b[0m\n",
      "-rwxrwxrwx 1 root root  11K Nov  5 05:36 \u001b[01;32mparsefastq.py\u001b[0m\n",
      "-rwxrwxrwx 1 root root  125 Nov  5 05:36 \u001b[01;32msamnohitstofastq\u001b[0m\n",
      "-rwxrwxrwx 1 root root 1.6G Nov  5 05:37 \u001b[01;32mSRR8090318.fastq.gz\u001b[0m\n",
      "-rwxrwxrwx 1 root root 767M Nov  5 05:37 \u001b[01;32mSRR8090318tx1.fastq.gz\u001b[0m\n",
      "-rwxrwxrwx 1 root root 2.1G Nov  5 05:42 \u001b[01;32mSRR8090319.fastq.gz\u001b[0m\n",
      "-rwxrwxrwx 1 root root 1.7G Nov  5 05:39 \u001b[01;32mSRR8090320.fastq.gz\u001b[0m\n",
      "-rwxrwxrwx 1 root root 2.5G Nov  5 05:38 \u001b[01;32mSRR8090326.fastq.gz\u001b[0m\n",
      "-rwxrwxrwx 1 root root 792M Nov  5 05:40 \u001b[01;32mSRR8090327.fastq.gz\u001b[0m\n",
      "-rwxrwxrwx 1 root root  32M Nov  5 05:36 \u001b[01;32mSRR8090327tx1.fastq.gz\u001b[0m\n",
      "-rwxrwxrwx 1 root root 1.0G Nov  5 05:34 \u001b[01;32mSRR8090328.fastq.gz\u001b[0m\n",
      "-rwxrwxrwx 1 root root 354M Nov  5 05:37 \u001b[01;32mSRR8090328tx1.fastq.gz\u001b[0m\n"
     ]
    }
   ],
   "source": [
    "ls -lh $FASTQS_RAW"
   ]
  },
  {
   "cell_type": "code",
   "execution_count": 8,
   "metadata": {},
   "outputs": [
    {
     "name": "stdout",
     "output_type": "stream",
     "text": [
      "\u001b[0m\u001b[34;42mfigure\u001b[0m\n",
      "\u001b[34;42mgenome\u001b[0m\n",
      "\u001b[34;42mout_bwa\u001b[0m\n",
      "\u001b[34;42mout_count\u001b[0m\n",
      "\u001b[34;42mout_igv\u001b[0m\n",
      "\u001b[34;42mout_qc_filter\u001b[0m\n",
      "\u001b[34;42mout_qc_raw\u001b[0m\n",
      "\u001b[34;42mout_qc_trimmed\u001b[0m\n"
     ]
    }
   ],
   "source": [
    "ls -1 $CUROUT"
   ]
  }
 ],
 "metadata": {
  "kernelspec": {
   "display_name": "Bash",
   "language": "bash",
   "name": "bash"
  },
  "language_info": {
   "codemirror_mode": "shell",
   "file_extension": ".sh",
   "mimetype": "text/x-sh",
   "name": "bash"
  }
 },
 "nbformat": 4,
 "nbformat_minor": 2
}
