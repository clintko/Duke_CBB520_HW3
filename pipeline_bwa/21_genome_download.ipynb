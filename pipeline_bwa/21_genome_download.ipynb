{
 "cells": [
  {
   "cell_type": "code",
   "execution_count": 1,
   "metadata": {},
   "outputs": [],
   "source": [
    "source config.sh"
   ]
  },
  {
   "cell_type": "code",
   "execution_count": 2,
   "metadata": {},
   "outputs": [],
   "source": [
    "ls $GENOME"
   ]
  },
  {
   "cell_type": "code",
   "execution_count": 3,
   "metadata": {},
   "outputs": [
    {
     "name": "stdout",
     "output_type": "stream",
     "text": [
      "2019-11-07 08:49:04 URL: ftp://ftp.ensembl.org/pub/release-98/fasta/canis_familiaris/dna/Canis_familiaris.CanFam3.1.dna.chromosome.MT.fa.gz [5439] -> \"/home/jovyan/work/DATA/fastq_cbb520_hw3/pipeline_bwa/genome/Canis_familiaris.CanFam3.1.dna.chromosome.MT.fa.gz\" [1]\n",
      "2019-11-07 08:49:23 URL: ftp://ftp.ensembl.org/pub/release-98/gtf/canis_familiaris/Canis_familiaris.CanFam3.1.98.gtf.gz [17959356] -> \"/home/jovyan/work/DATA/fastq_cbb520_hw3/pipeline_bwa/genome/Canis_familiaris.CanFam3.1.98.gtf.gz\" [1]\n"
     ]
    }
   ],
   "source": [
    "wget --no-verbose --directory-prefix ${GENOME} \"$FA_URL\"\n",
    "wget --no-verbose --directory-prefix ${GENOME} \"$GTF_URL\""
   ]
  },
  {
   "cell_type": "code",
   "execution_count": 4,
   "metadata": {},
   "outputs": [],
   "source": [
    "gunzip -f ${GENOME}/${FA}.gz\n",
    "gunzip -f ${GENOME}/${GTF}.gz"
   ]
  },
  {
   "cell_type": "code",
   "execution_count": 6,
   "metadata": {},
   "outputs": [
    {
     "name": "stdout",
     "output_type": "stream",
     "text": [
      "\u001b[0m\u001b[01;32mCanis_familiaris.CanFam3.1.98.gtf\u001b[0m\n",
      "\u001b[01;32mCanis_familiaris.CanFam3.1.dna.chromosome.MT.fa\u001b[0m\n"
     ]
    }
   ],
   "source": [
    "ls $GENOME"
   ]
  }
 ],
 "metadata": {
  "kernelspec": {
   "display_name": "Bash",
   "language": "bash",
   "name": "bash"
  },
  "language_info": {
   "codemirror_mode": "shell",
   "file_extension": ".sh",
   "mimetype": "text/x-sh",
   "name": "bash"
  }
 },
 "nbformat": 4,
 "nbformat_minor": 2
}
