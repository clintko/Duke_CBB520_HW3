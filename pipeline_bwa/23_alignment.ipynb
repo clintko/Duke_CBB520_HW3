{
 "cells": [
  {
   "cell_type": "code",
   "execution_count": 1,
   "metadata": {},
   "outputs": [],
   "source": [
    "source config.sh"
   ]
  },
  {
   "cell_type": "code",
   "execution_count": 3,
   "metadata": {},
   "outputs": [
    {
     "name": "stdout",
     "output_type": "stream",
     "text": [
      "total 0\n",
      "drwxrwxrwx 1 root root   0 Nov  7 08:48 \u001b[0m\u001b[34;42mfigure\u001b[0m\n",
      "drwxrwxrwx 1 root root 392 Nov  7 08:58 \u001b[34;42mgenome\u001b[0m\n",
      "drwxrwxrwx 1 root root   0 Nov  7 08:48 \u001b[34;42mout_bwa\u001b[0m\n",
      "drwxrwxrwx 1 root root   0 Nov  7 08:48 \u001b[34;42mout_count\u001b[0m\n",
      "drwxrwxrwx 1 root root   0 Nov  7 08:48 \u001b[34;42mout_igv\u001b[0m\n",
      "drwxrwxrwx 1 root root   0 Nov  7 08:48 \u001b[34;42mout_qc_filter\u001b[0m\n",
      "drwxrwxrwx 1 root root   0 Nov  7 08:48 \u001b[34;42mout_qc_raw\u001b[0m\n",
      "drwxrwxrwx 1 root root   0 Nov  7 08:48 \u001b[34;42mout_qc_trimmed\u001b[0m\n"
     ]
    }
   ],
   "source": [
    "ls -l $CUROUT"
   ]
  },
  {
   "cell_type": "code",
   "execution_count": 5,
   "metadata": {},
   "outputs": [],
   "source": [
    "FASTQS_FILE=ERR1994755_filter.fastq.gz"
   ]
  },
  {
   "cell_type": "code",
   "execution_count": 6,
   "metadata": {},
   "outputs": [
    {
     "name": "stdout",
     "output_type": "stream",
     "text": [
      "-rwxrwxrwx 1 root root 267M Nov  7 08:56 \u001b[0m\u001b[01;32m/home/jovyan/work/DATA/fastq_cbb520_hw3/fastqs_filter/ERR1994755_filter.fastq.gz\u001b[0m\u001b[K\n"
     ]
    }
   ],
   "source": [
    "ls -lh $FASTQS_FILTER/$FASTQS_FILE"
   ]
  },
  {
   "cell_type": "code",
   "execution_count": 8,
   "metadata": {},
   "outputs": [
    {
     "name": "stdout",
     "output_type": "stream",
     "text": [
      "/home/jovyan/work/DATA/fastq_cbb520_hw3/pipeline_bwa/out_bwa\n"
     ]
    }
   ],
   "source": [
    "echo $OUT_BWA"
   ]
  },
  {
   "cell_type": "code",
   "execution_count": 14,
   "metadata": {},
   "outputs": [
    {
     "name": "stdout",
     "output_type": "stream",
     "text": [
      "ERR1994755_\n",
      "ERR1994755_alignment.sam\n"
     ]
    }
   ],
   "source": [
    "echo $(basename ${FASTQS_FILE%_filter.fastq.gz})_\n",
    "ALN_FILE=$(basename ${FASTQS_FILE%_filter.fastq.gz})_alignment.sam\n",
    "echo $ALN_FILE"
   ]
  },
  {
   "cell_type": "code",
   "execution_count": 11,
   "metadata": {},
   "outputs": [
    {
     "name": "stdout",
     "output_type": "stream",
     "text": [
      "              total        used        free      shared  buff/cache   available\n",
      "Mem:             31           5           3           0          22          25\n",
      "Swap:             1           0           1\n"
     ]
    }
   ],
   "source": [
    "### https://askubuntu.com/questions/898941/how-to-check-ram-size\n",
    "free -g"
   ]
  },
  {
   "cell_type": "code",
   "execution_count": 12,
   "metadata": {},
   "outputs": [
    {
     "name": "stdout",
     "output_type": "stream",
     "text": [
      "\u001b[0m\u001b[01;32m/home/jovyan/work/DATA/fastq_cbb520_hw3/pipeline_bwa/genome/Canis_familiaris.CanFam3.1.dna.chromosome.MT.fa\u001b[0m\u001b[K\n"
     ]
    }
   ],
   "source": [
    "ls $GENOME/$FA"
   ]
  },
  {
   "cell_type": "code",
   "execution_count": 15,
   "metadata": {},
   "outputs": [
    {
     "name": "stdout",
     "output_type": "stream",
     "text": [
      "[M::bwa_idx_load_from_disk] read 0 ALT contigs\n",
      "[M::process] read 1249981 sequences (96092066 bp)...\n",
      "[M::mem_process_seqs] Processed 1249981 reads in 32.823 CPU sec, 3.429 real sec\n",
      "[main] Version: 0.7.17-r1198-dirty\n",
      "[main] CMD: bwa mem -t 10 /home/jovyan/work/DATA/fastq_cbb520_hw3/pipeline_bwa/genome/Canis_familiaris.CanFam3.1.dna.chromosome.MT.fa /home/jovyan/work/DATA/fastq_cbb520_hw3/fastqs_filter/ERR1994755_filter.fastq.gz\n",
      "[main] Real time: 7.450 sec; CPU: 34.248 sec\n"
     ]
    }
   ],
   "source": [
    "bwa mem -t 10 $GENOME/$FA $FASTQS_FILTER/$FASTQS_FILE > $OUT_BWA/$ALN_FILE"
   ]
  }
 ],
 "metadata": {
  "kernelspec": {
   "display_name": "Bash",
   "language": "bash",
   "name": "bash"
  },
  "language_info": {
   "codemirror_mode": "shell",
   "file_extension": ".sh",
   "mimetype": "text/x-sh",
   "name": "bash"
  }
 },
 "nbformat": 4,
 "nbformat_minor": 2
}
