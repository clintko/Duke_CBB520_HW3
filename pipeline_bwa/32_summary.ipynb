{
 "cells": [
  {
   "cell_type": "code",
   "execution_count": 1,
   "metadata": {},
   "outputs": [
    {
     "name": "stderr",
     "output_type": "stream",
     "text": [
      "── \u001b[1mAttaching packages\u001b[22m ─────────────────────────────────────── tidyverse 1.2.1 ──\n",
      "\u001b[32m✔\u001b[39m \u001b[34mggplot2\u001b[39m 3.2.0     \u001b[32m✔\u001b[39m \u001b[34mpurrr  \u001b[39m 0.3.2\n",
      "\u001b[32m✔\u001b[39m \u001b[34mtibble \u001b[39m 2.1.3     \u001b[32m✔\u001b[39m \u001b[34mdplyr  \u001b[39m 0.8.3\n",
      "\u001b[32m✔\u001b[39m \u001b[34mtidyr  \u001b[39m 0.8.3     \u001b[32m✔\u001b[39m \u001b[34mstringr\u001b[39m 1.4.0\n",
      "\u001b[32m✔\u001b[39m \u001b[34mreadr  \u001b[39m 1.3.1     \u001b[32m✔\u001b[39m \u001b[34mforcats\u001b[39m 0.4.0\n",
      "── \u001b[1mConflicts\u001b[22m ────────────────────────────────────────── tidyverse_conflicts() ──\n",
      "\u001b[31m✖\u001b[39m \u001b[34mdplyr\u001b[39m::\u001b[32mfilter()\u001b[39m masks \u001b[34mstats\u001b[39m::filter()\n",
      "\u001b[31m✖\u001b[39m \u001b[34mdplyr\u001b[39m::\u001b[32mlag()\u001b[39m    masks \u001b[34mstats\u001b[39m::lag()\n"
     ]
    }
   ],
   "source": [
    "library(tidyverse)"
   ]
  },
  {
   "cell_type": "code",
   "execution_count": 2,
   "metadata": {},
   "outputs": [
    {
     "name": "stderr",
     "output_type": "stream",
     "text": [
      "Parsed with column specification:\n",
      "cols(\n",
      "  Geneid = \u001b[31mcol_character()\u001b[39m,\n",
      "  `/home/jovyan/work/DATA/fastq_cbb520_hw3/pipeline_bwa/out_bwa/ERR1994755_align_sorted.bam` = \u001b[32mcol_double()\u001b[39m\n",
      ")\n"
     ]
    }
   ],
   "source": [
    "cnt = read_delim(\n",
    "    \"/home/jovyan/work/DATA/fastq_cbb520_hw3/pipeline_bwa/out_count/ERR1994755.txt\",\n",
    "    delim = \"\\t\")"
   ]
  },
  {
   "cell_type": "code",
   "execution_count": 8,
   "metadata": {},
   "outputs": [
    {
     "name": "stderr",
     "output_type": "stream",
     "text": [
      "Parsed with column specification:\n",
      "cols(\n",
      "  `Gene stable ID` = \u001b[31mcol_character()\u001b[39m,\n",
      "  `Gene stable ID version` = \u001b[31mcol_character()\u001b[39m,\n",
      "  `Transcript stable ID` = \u001b[31mcol_character()\u001b[39m,\n",
      "  `Transcript stable ID version` = \u001b[31mcol_character()\u001b[39m,\n",
      "  `Gene name` = \u001b[31mcol_character()\u001b[39m\n",
      ")\n"
     ]
    }
   ],
   "source": [
    "info = read_delim(\"/home/jovyan/work/GitRepo/Duke_CBB520_HW3/pipeline_bwa/mart_export.txt\", delim = \"\\t\")"
   ]
  },
  {
   "cell_type": "code",
   "execution_count": 10,
   "metadata": {},
   "outputs": [
    {
     "data": {
      "text/html": [
       "<table>\n",
       "<caption>A tibble: 6 × 5</caption>\n",
       "<thead>\n",
       "\t<tr><th scope=col>Gene stable ID</th><th scope=col>Gene stable ID version</th><th scope=col>Transcript stable ID</th><th scope=col>Transcript stable ID version</th><th scope=col>Gene name</th></tr>\n",
       "\t<tr><th scope=col>&lt;chr&gt;</th><th scope=col>&lt;chr&gt;</th><th scope=col>&lt;chr&gt;</th><th scope=col>&lt;chr&gt;</th><th scope=col>&lt;chr&gt;</th></tr>\n",
       "</thead>\n",
       "<tbody>\n",
       "\t<tr><td>ENSCAFG00000022744</td><td>ENSCAFG00000022744.1</td><td>ENSCAFT00000034851</td><td>ENSCAFT00000034851.1</td><td>NA    </td></tr>\n",
       "\t<tr><td>ENSCAFG00000022743</td><td>ENSCAFG00000022743.1</td><td>ENSCAFT00000034850</td><td>ENSCAFT00000034850.1</td><td>NA    </td></tr>\n",
       "\t<tr><td>ENSCAFG00000022742</td><td>ENSCAFG00000022742.1</td><td>ENSCAFT00000034849</td><td>ENSCAFT00000034849.1</td><td>MT-CYB</td></tr>\n",
       "\t<tr><td>ENSCAFG00000022741</td><td>ENSCAFG00000022741.1</td><td>ENSCAFT00000034848</td><td>ENSCAFT00000034848.1</td><td>NA    </td></tr>\n",
       "\t<tr><td>ENSCAFG00000022740</td><td>ENSCAFG00000022740.1</td><td>ENSCAFT00000034847</td><td>ENSCAFT00000034847.1</td><td>MT-ND6</td></tr>\n",
       "\t<tr><td>ENSCAFG00000022739</td><td>ENSCAFG00000022739.1</td><td>ENSCAFT00000034846</td><td>ENSCAFT00000034846.1</td><td>ND5   </td></tr>\n",
       "</tbody>\n",
       "</table>\n"
      ],
      "text/latex": [
       "A tibble: 6 × 5\n",
       "\\begin{tabular}{r|lllll}\n",
       " Gene stable ID & Gene stable ID version & Transcript stable ID & Transcript stable ID version & Gene name\\\\\n",
       " <chr> & <chr> & <chr> & <chr> & <chr>\\\\\n",
       "\\hline\n",
       "\t ENSCAFG00000022744 & ENSCAFG00000022744.1 & ENSCAFT00000034851 & ENSCAFT00000034851.1 & NA    \\\\\n",
       "\t ENSCAFG00000022743 & ENSCAFG00000022743.1 & ENSCAFT00000034850 & ENSCAFT00000034850.1 & NA    \\\\\n",
       "\t ENSCAFG00000022742 & ENSCAFG00000022742.1 & ENSCAFT00000034849 & ENSCAFT00000034849.1 & MT-CYB\\\\\n",
       "\t ENSCAFG00000022741 & ENSCAFG00000022741.1 & ENSCAFT00000034848 & ENSCAFT00000034848.1 & NA    \\\\\n",
       "\t ENSCAFG00000022740 & ENSCAFG00000022740.1 & ENSCAFT00000034847 & ENSCAFT00000034847.1 & MT-ND6\\\\\n",
       "\t ENSCAFG00000022739 & ENSCAFG00000022739.1 & ENSCAFT00000034846 & ENSCAFT00000034846.1 & ND5   \\\\\n",
       "\\end{tabular}\n"
      ],
      "text/markdown": [
       "\n",
       "A tibble: 6 × 5\n",
       "\n",
       "| Gene stable ID &lt;chr&gt; | Gene stable ID version &lt;chr&gt; | Transcript stable ID &lt;chr&gt; | Transcript stable ID version &lt;chr&gt; | Gene name &lt;chr&gt; |\n",
       "|---|---|---|---|---|\n",
       "| ENSCAFG00000022744 | ENSCAFG00000022744.1 | ENSCAFT00000034851 | ENSCAFT00000034851.1 | NA     |\n",
       "| ENSCAFG00000022743 | ENSCAFG00000022743.1 | ENSCAFT00000034850 | ENSCAFT00000034850.1 | NA     |\n",
       "| ENSCAFG00000022742 | ENSCAFG00000022742.1 | ENSCAFT00000034849 | ENSCAFT00000034849.1 | MT-CYB |\n",
       "| ENSCAFG00000022741 | ENSCAFG00000022741.1 | ENSCAFT00000034848 | ENSCAFT00000034848.1 | NA     |\n",
       "| ENSCAFG00000022740 | ENSCAFG00000022740.1 | ENSCAFT00000034847 | ENSCAFT00000034847.1 | MT-ND6 |\n",
       "| ENSCAFG00000022739 | ENSCAFG00000022739.1 | ENSCAFT00000034846 | ENSCAFT00000034846.1 | ND5    |\n",
       "\n"
      ],
      "text/plain": [
       "  Gene stable ID     Gene stable ID version Transcript stable ID\n",
       "1 ENSCAFG00000022744 ENSCAFG00000022744.1   ENSCAFT00000034851  \n",
       "2 ENSCAFG00000022743 ENSCAFG00000022743.1   ENSCAFT00000034850  \n",
       "3 ENSCAFG00000022742 ENSCAFG00000022742.1   ENSCAFT00000034849  \n",
       "4 ENSCAFG00000022741 ENSCAFG00000022741.1   ENSCAFT00000034848  \n",
       "5 ENSCAFG00000022740 ENSCAFG00000022740.1   ENSCAFT00000034847  \n",
       "6 ENSCAFG00000022739 ENSCAFG00000022739.1   ENSCAFT00000034846  \n",
       "  Transcript stable ID version Gene name\n",
       "1 ENSCAFT00000034851.1         NA       \n",
       "2 ENSCAFT00000034850.1         NA       \n",
       "3 ENSCAFT00000034849.1         MT-CYB   \n",
       "4 ENSCAFT00000034848.1         NA       \n",
       "5 ENSCAFT00000034847.1         MT-ND6   \n",
       "6 ENSCAFT00000034846.1         ND5      "
      ]
     },
     "metadata": {},
     "output_type": "display_data"
    }
   ],
   "source": [
    "head(info)"
   ]
  },
  {
   "cell_type": "code",
   "execution_count": 4,
   "metadata": {},
   "outputs": [],
   "source": [
    "colnames(cnt) = c(\"Geneid\", \"ERR1994755\")"
   ]
  },
  {
   "cell_type": "code",
   "execution_count": 7,
   "metadata": {},
   "outputs": [
    {
     "data": {
      "text/html": [
       "<table>\n",
       "<caption>A spec_tbl_df: 26 × 2</caption>\n",
       "<thead>\n",
       "\t<tr><th scope=col>Geneid</th><th scope=col>ERR1994755</th></tr>\n",
       "\t<tr><th scope=col>&lt;chr&gt;</th><th scope=col>&lt;dbl&gt;</th></tr>\n",
       "</thead>\n",
       "<tbody>\n",
       "\t<tr><td>ENSCAFG00000022708</td><td> 17</td></tr>\n",
       "\t<tr><td>ENSCAFG00000022709</td><td>385</td></tr>\n",
       "\t<tr><td>ENSCAFG00000022711</td><td>615</td></tr>\n",
       "\t<tr><td>ENSCAFG00000022712</td><td>  1</td></tr>\n",
       "\t<tr><td>ENSCAFG00000022713</td><td>239</td></tr>\n",
       "\t<tr><td>ENSCAFG00000022717</td><td>195</td></tr>\n",
       "\t<tr><td>ENSCAFG00000022718</td><td>  2</td></tr>\n",
       "\t<tr><td>ENSCAFG00000022719</td><td>  7</td></tr>\n",
       "\t<tr><td>ENSCAFG00000022720</td><td>  4</td></tr>\n",
       "\t<tr><td>ENSCAFG00000022721</td><td> 10</td></tr>\n",
       "\t<tr><td>ENSCAFG00000022723</td><td>291</td></tr>\n",
       "\t<tr><td>ENSCAFG00000022726</td><td>183</td></tr>\n",
       "\t<tr><td>ENSCAFG00000022727</td><td>  2</td></tr>\n",
       "\t<tr><td>ENSCAFG00000022728</td><td> 11</td></tr>\n",
       "\t<tr><td>ENSCAFG00000022729</td><td> 64</td></tr>\n",
       "\t<tr><td>ENSCAFG00000022730</td><td> 61</td></tr>\n",
       "\t<tr><td>ENSCAFG00000022731</td><td>  1</td></tr>\n",
       "\t<tr><td>ENSCAFG00000022732</td><td> 66</td></tr>\n",
       "\t<tr><td>ENSCAFG00000022734</td><td> 28</td></tr>\n",
       "\t<tr><td>ENSCAFG00000022735</td><td>324</td></tr>\n",
       "\t<tr><td>ENSCAFG00000022736</td><td>  1</td></tr>\n",
       "\t<tr><td>ENSCAFG00000022739</td><td>572</td></tr>\n",
       "\t<tr><td>ENSCAFG00000022740</td><td> 73</td></tr>\n",
       "\t<tr><td>ENSCAFG00000022741</td><td>  1</td></tr>\n",
       "\t<tr><td>ENSCAFG00000022742</td><td>235</td></tr>\n",
       "\t<tr><td>ENSCAFG00000022744</td><td> 23</td></tr>\n",
       "</tbody>\n",
       "</table>\n"
      ],
      "text/latex": [
       "A spec_tbl_df: 26 × 2\n",
       "\\begin{tabular}{r|ll}\n",
       " Geneid & ERR1994755\\\\\n",
       " <chr> & <dbl>\\\\\n",
       "\\hline\n",
       "\t ENSCAFG00000022708 &  17\\\\\n",
       "\t ENSCAFG00000022709 & 385\\\\\n",
       "\t ENSCAFG00000022711 & 615\\\\\n",
       "\t ENSCAFG00000022712 &   1\\\\\n",
       "\t ENSCAFG00000022713 & 239\\\\\n",
       "\t ENSCAFG00000022717 & 195\\\\\n",
       "\t ENSCAFG00000022718 &   2\\\\\n",
       "\t ENSCAFG00000022719 &   7\\\\\n",
       "\t ENSCAFG00000022720 &   4\\\\\n",
       "\t ENSCAFG00000022721 &  10\\\\\n",
       "\t ENSCAFG00000022723 & 291\\\\\n",
       "\t ENSCAFG00000022726 & 183\\\\\n",
       "\t ENSCAFG00000022727 &   2\\\\\n",
       "\t ENSCAFG00000022728 &  11\\\\\n",
       "\t ENSCAFG00000022729 &  64\\\\\n",
       "\t ENSCAFG00000022730 &  61\\\\\n",
       "\t ENSCAFG00000022731 &   1\\\\\n",
       "\t ENSCAFG00000022732 &  66\\\\\n",
       "\t ENSCAFG00000022734 &  28\\\\\n",
       "\t ENSCAFG00000022735 & 324\\\\\n",
       "\t ENSCAFG00000022736 &   1\\\\\n",
       "\t ENSCAFG00000022739 & 572\\\\\n",
       "\t ENSCAFG00000022740 &  73\\\\\n",
       "\t ENSCAFG00000022741 &   1\\\\\n",
       "\t ENSCAFG00000022742 & 235\\\\\n",
       "\t ENSCAFG00000022744 &  23\\\\\n",
       "\\end{tabular}\n"
      ],
      "text/markdown": [
       "\n",
       "A spec_tbl_df: 26 × 2\n",
       "\n",
       "| Geneid &lt;chr&gt; | ERR1994755 &lt;dbl&gt; |\n",
       "|---|---|\n",
       "| ENSCAFG00000022708 |  17 |\n",
       "| ENSCAFG00000022709 | 385 |\n",
       "| ENSCAFG00000022711 | 615 |\n",
       "| ENSCAFG00000022712 |   1 |\n",
       "| ENSCAFG00000022713 | 239 |\n",
       "| ENSCAFG00000022717 | 195 |\n",
       "| ENSCAFG00000022718 |   2 |\n",
       "| ENSCAFG00000022719 |   7 |\n",
       "| ENSCAFG00000022720 |   4 |\n",
       "| ENSCAFG00000022721 |  10 |\n",
       "| ENSCAFG00000022723 | 291 |\n",
       "| ENSCAFG00000022726 | 183 |\n",
       "| ENSCAFG00000022727 |   2 |\n",
       "| ENSCAFG00000022728 |  11 |\n",
       "| ENSCAFG00000022729 |  64 |\n",
       "| ENSCAFG00000022730 |  61 |\n",
       "| ENSCAFG00000022731 |   1 |\n",
       "| ENSCAFG00000022732 |  66 |\n",
       "| ENSCAFG00000022734 |  28 |\n",
       "| ENSCAFG00000022735 | 324 |\n",
       "| ENSCAFG00000022736 |   1 |\n",
       "| ENSCAFG00000022739 | 572 |\n",
       "| ENSCAFG00000022740 |  73 |\n",
       "| ENSCAFG00000022741 |   1 |\n",
       "| ENSCAFG00000022742 | 235 |\n",
       "| ENSCAFG00000022744 |  23 |\n",
       "\n"
      ],
      "text/plain": [
       "   Geneid             ERR1994755\n",
       "1  ENSCAFG00000022708  17       \n",
       "2  ENSCAFG00000022709 385       \n",
       "3  ENSCAFG00000022711 615       \n",
       "4  ENSCAFG00000022712   1       \n",
       "5  ENSCAFG00000022713 239       \n",
       "6  ENSCAFG00000022717 195       \n",
       "7  ENSCAFG00000022718   2       \n",
       "8  ENSCAFG00000022719   7       \n",
       "9  ENSCAFG00000022720   4       \n",
       "10 ENSCAFG00000022721  10       \n",
       "11 ENSCAFG00000022723 291       \n",
       "12 ENSCAFG00000022726 183       \n",
       "13 ENSCAFG00000022727   2       \n",
       "14 ENSCAFG00000022728  11       \n",
       "15 ENSCAFG00000022729  64       \n",
       "16 ENSCAFG00000022730  61       \n",
       "17 ENSCAFG00000022731   1       \n",
       "18 ENSCAFG00000022732  66       \n",
       "19 ENSCAFG00000022734  28       \n",
       "20 ENSCAFG00000022735 324       \n",
       "21 ENSCAFG00000022736   1       \n",
       "22 ENSCAFG00000022739 572       \n",
       "23 ENSCAFG00000022740  73       \n",
       "24 ENSCAFG00000022741   1       \n",
       "25 ENSCAFG00000022742 235       \n",
       "26 ENSCAFG00000022744  23       "
      ]
     },
     "metadata": {},
     "output_type": "display_data"
    }
   ],
   "source": [
    "cnt %>% filter(ERR1994755 !=0)"
   ]
  },
  {
   "cell_type": "code",
   "execution_count": 17,
   "metadata": {},
   "outputs": [],
   "source": [
    "cnt %>% filter(ERR1994755 !=0) %>% left_join(.,info, by = c(\"Geneid\" = \"Gene stable ID\")) %>% select(\"Geneid\", \"Gene name\", \"ERR1994755\") %>% na.omit -> dat"
   ]
  },
  {
   "cell_type": "code",
   "execution_count": 37,
   "metadata": {},
   "outputs": [
    {
     "data": {
      "image/png": "[encoded data removed]",
      "text/plain": [
       "plot without title"
      ]
     },
     "metadata": {},
     "output_type": "display_data"
    }
   ],
   "source": [
    "#qplot(dat$`Gene name`, dat$ERR1994755) + theme()\n",
    "options(repr.plot.height=3, repr.plot.width=5)\n",
    "ggplot(arrange(dat, ERR1994755), aes(x=`Gene name`, y=ERR1994755)) +\n",
    "  geom_bar(stat=\"identity\") + \n",
    "  theme_bw()+\n",
    "  theme(axis.text.x = element_text(angle = 90, hjust = 1, vjust=0.5))\n",
    "   "
   ]
  },
  {
   "cell_type": "code",
   "execution_count": 44,
   "metadata": {},
   "outputs": [
    {
     "data": {
      "image/png": "[encoded data removed]",
      "text/plain": [
       "plot without title"
      ]
     },
     "metadata": {},
     "output_type": "display_data"
    }
   ],
   "source": [
    "options(repr.plot.height=3, repr.plot.width=6)\n",
    "g <- ggplot(dat, aes(reorder(`Gene name`, ERR1994755), ERR1994755)) + labs(title=\"ERR1994755\", x=\"Gene Name\", y=\"Count\")\n",
    "g + geom_bar(stat=\"identity\") + coord_flip() + theme_bw()"
   ]
  }
 ],
 "metadata": {
  "kernelspec": {
   "display_name": "R",
   "language": "R",
   "name": "ir"
  },
  "language_info": {
   "codemirror_mode": "r",
   "file_extension": ".r",
   "mimetype": "text/x-r-source",
   "name": "R",
   "pygments_lexer": "r",
   "version": "3.6.1"
  }
 },
 "nbformat": 4,
 "nbformat_minor": 2
}
