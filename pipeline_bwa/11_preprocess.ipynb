{
 "cells": [
  {
   "cell_type": "markdown",
   "metadata": {},
   "source": [
    "# Preprocess the reads"
   ]
  },
  {
   "cell_type": "code",
   "execution_count": 1,
   "metadata": {},
   "outputs": [],
   "source": [
    "source config.sh"
   ]
  },
  {
   "cell_type": "code",
   "execution_count": 2,
   "metadata": {},
   "outputs": [
    {
     "name": "stdout",
     "output_type": "stream",
     "text": [
      "\u001b[0m\u001b[01;32mERR1994755.fastq\u001b[0m     \u001b[01;32mget_fastq_files\u001b[0m              \u001b[01;32mSRR8090319.fastq.gz\u001b[0m\n",
      "\u001b[01;32mERR1994755.fastq.gz\u001b[0m  \u001b[01;32mget_fastq_files2\u001b[0m             \u001b[01;32mSRR8090320.fastq.gz\u001b[0m\n",
      "\u001b[01;32mERR1994756.fastq.gz\u001b[0m  \u001b[01;32mNEB_adapter_manualE7335.pdf\u001b[0m  \u001b[01;32mSRR8090326.fastq.gz\u001b[0m\n",
      "\u001b[01;32mERR1994757.fastq.gz\u001b[0m  \u001b[01;32mnohup.out\u001b[0m                    \u001b[01;32mSRR8090327.fastq.gz\u001b[0m\n",
      "\u001b[01;32mERR1994763.fastq.gz\u001b[0m  \u001b[01;32mparsefastq.py\u001b[0m                \u001b[01;32mSRR8090327tx1.fastq.gz\u001b[0m\n",
      "\u001b[01;32mERR1994764.fastq.gz\u001b[0m  \u001b[01;32msamnohitstofastq\u001b[0m             \u001b[01;32mSRR8090328.fastq.gz\u001b[0m\n",
      "\u001b[01;32mERR1994765.fastq.gz\u001b[0m  \u001b[01;32mSRR8090318.fastq.gz\u001b[0m          \u001b[01;32mSRR8090328tx1.fastq.gz\u001b[0m\n",
      "\u001b[01;32mfastq_file_info\u001b[0m      \u001b[01;32mSRR8090318tx1.fastq.gz\u001b[0m\n"
     ]
    }
   ],
   "source": [
    "ls $FASTQS_RAW"
   ]
  },
  {
   "cell_type": "markdown",
   "metadata": {},
   "source": [
    "## filter and trim adapters"
   ]
  },
  {
   "cell_type": "code",
   "execution_count": 3,
   "metadata": {},
   "outputs": [],
   "source": [
    "FASTQS_RAW_FILE=ERR1994755.fastq.gz"
   ]
  },
  {
   "cell_type": "code",
   "execution_count": 4,
   "metadata": {},
   "outputs": [
    {
     "name": "stdout",
     "output_type": "stream",
     "text": [
      "-rwxrwxrwx 1 root root 108M Nov  5 05:36 \u001b[0m\u001b[01;32m/home/jovyan/work/DATA/fastq_cbb520_hw3/assignment_3/ERR1994755.fastq.gz\u001b[0m\u001b[K\n"
     ]
    }
   ],
   "source": [
    "ls -lh $FASTQS_RAW/$FASTQS_RAW_FILE"
   ]
  },
  {
   "cell_type": "code",
   "execution_count": 8,
   "metadata": {},
   "outputs": [
    {
     "name": "stdout",
     "output_type": "stream",
     "text": [
      "ERR1994755_filter.fastq.gz\n"
     ]
    }
   ],
   "source": [
    "FASTQS_FILTER_FILE=$(basename ${FASTQS_RAW_FILE%.fastq.gz})_filter.fastq.gz\n",
    "echo $FASTQS_FILTER_FILE"
   ]
  },
  {
   "cell_type": "code",
   "execution_count": 10,
   "metadata": {},
   "outputs": [],
   "source": [
    "zcat $FASTQS_RAW/$FASTQS_RAW_FILE | ../fq_filt.py | ../fq_trim.py ../subseq.txt > $FASTQS_FILTER/$FASTQS_FILTER_FILE"
   ]
  },
  {
   "cell_type": "code",
   "execution_count": null,
   "metadata": {},
   "outputs": [],
   "source": []
  }
 ],
 "metadata": {
  "kernelspec": {
   "display_name": "Bash",
   "language": "bash",
   "name": "bash"
  },
  "language_info": {
   "codemirror_mode": "shell",
   "file_extension": ".sh",
   "mimetype": "text/x-sh",
   "name": "bash"
  }
 },
 "nbformat": 4,
 "nbformat_minor": 2
}
