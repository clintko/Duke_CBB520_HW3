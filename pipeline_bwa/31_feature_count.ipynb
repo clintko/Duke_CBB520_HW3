{
 "cells": [
  {
   "cell_type": "code",
   "execution_count": 1,
   "metadata": {},
   "outputs": [],
   "source": [
    "source config.sh"
   ]
  },
  {
   "cell_type": "code",
   "execution_count": 2,
   "metadata": {},
   "outputs": [
    {
     "name": "stdout",
     "output_type": "stream",
     "text": [
      "\u001b[0m\u001b[01;32m/home/jovyan/work/DATA/fastq_cbb520_hw3/pipeline_bwa/out_bwa/ERR1994755_alignment.sam\u001b[0m\u001b[K\n"
     ]
    }
   ],
   "source": [
    "ALN_FILE=ERR1994755_alignment.sam\n",
    "ls $OUT_BWA/$ALN_FILE"
   ]
  },
  {
   "cell_type": "markdown",
   "metadata": {},
   "source": [
    "[Question: Must I sort the .bam or .sam file before do the feature count?](https://www.biostars.org/p/245826/)\n",
    "\n",
    "Not necessary but since one needs sorted files for other things I find it convenient to sort upfront."
   ]
  },
  {
   "cell_type": "code",
   "execution_count": 6,
   "metadata": {},
   "outputs": [],
   "source": [
    "samtools sort $OUT_BWA/$ALN_FILE > $OUT_BWA/ERR1994755_align_sorted.bam"
   ]
  },
  {
   "cell_type": "code",
   "execution_count": 8,
   "metadata": {},
   "outputs": [
    {
     "name": "stdout",
     "output_type": "stream",
     "text": [
      "\u001b[0m\u001b[01;32mERR1994755_alignment.sam\u001b[0m\n",
      "\u001b[01;32mERR1994755_align_sorted.bam\u001b[0m\n"
     ]
    }
   ],
   "source": [
    "ls -1 $OUT_BWA"
   ]
  },
  {
   "cell_type": "code",
   "execution_count": 9,
   "metadata": {},
   "outputs": [],
   "source": [
    "samtools index $OUT_BWA/ERR1994755_align_sorted.bam"
   ]
  },
  {
   "cell_type": "code",
   "execution_count": 10,
   "metadata": {},
   "outputs": [
    {
     "name": "stdout",
     "output_type": "stream",
     "text": [
      "\u001b[0m\u001b[01;32mERR1994755_alignment.sam\u001b[0m\n",
      "\u001b[01;32mERR1994755_align_sorted.bam\u001b[0m\n",
      "\u001b[01;32mERR1994755_align_sorted.bam.bai\u001b[0m\n"
     ]
    }
   ],
   "source": [
    "ls -1 $OUT_BWA"
   ]
  },
  {
   "cell_type": "code",
   "execution_count": 13,
   "metadata": {},
   "outputs": [
    {
     "name": "stdout",
     "output_type": "stream",
     "text": [
      "bash: featureCounts: command not found\n"
     ]
    },
    {
     "ename": "",
     "evalue": "127",
     "output_type": "error",
     "traceback": []
    }
   ],
   "source": [
    "featureCounts \\\n",
    "      --primary \\\n",
    "      -C \\\n",
    "      -t exon \\\n",
    "      -g gene_id \\\n",
    "      -a $GENOME/$GTF \\\n",
    "      -o ERR1994755_featureCounts \\\n",
    "      ERR1994755_align_sorted.bam"
   ]
  },
  {
   "cell_type": "code",
   "execution_count": 12,
   "metadata": {},
   "outputs": [
    {
     "name": "stdout",
     "output_type": "stream",
     "text": [
      "-rwxrwxrwx 1 root root 511327351 Nov  7 08:49 \u001b[0m\u001b[01;32m/home/jovyan/work/DATA/fastq_cbb520_hw3/pipeline_bwa/genome/Canis_familiaris.CanFam3.1.98.gtf\u001b[0m\u001b[K\n"
     ]
    }
   ],
   "source": [
    "ls -l $GENOME/$GTF"
   ]
  },
  {
   "cell_type": "code",
   "execution_count": 14,
   "metadata": {},
   "outputs": [
    {
     "name": "stdout",
     "output_type": "stream",
     "text": [
      "--2019-11-07 10:16:14--  https://sourceforge.net/projects/subread/files/subread-2.0.0/subread-2.0.0-Linux-x86_64.tar.gz/download\n",
      "Resolving sourceforge.net (sourceforge.net)... 216.105.38.13\n",
      "Connecting to sourceforge.net (sourceforge.net)|216.105.38.13|:443... connected.\n",
      "HTTP request sent, awaiting response... 302 Found\n",
      "Location: https://downloads.sourceforge.net/project/subread/subread-2.0.0/subread-2.0.0-Linux-x86_64.tar.gz?r=&ts=1573121775&use_mirror=ayera [following]\n",
      "--2019-11-07 10:16:15--  https://downloads.sourceforge.net/project/subread/subread-2.0.0/subread-2.0.0-Linux-x86_64.tar.gz?r=&ts=1573121775&use_mirror=ayera\n",
      "Resolving downloads.sourceforge.net (downloads.sourceforge.net)... 216.105.38.13\n",
      "Connecting to downloads.sourceforge.net (downloads.sourceforge.net)|216.105.38.13|:443... connected.\n",
      "HTTP request sent, awaiting response... 302 Found\n",
      "Location: https://ayera.dl.sourceforge.net/project/subread/subread-2.0.0/subread-2.0.0-Linux-x86_64.tar.gz [following]\n",
      "--2019-11-07 10:16:15--  https://ayera.dl.sourceforge.net/project/subread/subread-2.0.0/subread-2.0.0-Linux-x86_64.tar.gz\n",
      "Resolving ayera.dl.sourceforge.net (ayera.dl.sourceforge.net)... 172.110.242.68, 2607:fa38:0:fe:6563:4fc1:ac91:ea86\n",
      "Connecting to ayera.dl.sourceforge.net (ayera.dl.sourceforge.net)|172.110.242.68|:443... connected.\n",
      "HTTP request sent, awaiting response... 200 OK\n",
      "Length: 49162267 (47M) [application/x-gzip]\n",
      "Saving to: ‘download’\n",
      "\n",
      "download            100%[===================>]  46.88M  21.6MB/s    in 2.2s    \n",
      "\n",
      "2019-11-07 10:16:18 (21.6 MB/s) - ‘download’ saved [49162267/49162267]\n",
      "\n"
     ]
    }
   ],
   "source": [
    "wget https://sourceforge.net/projects/subread/files/subread-2.0.0/subread-2.0.0-Linux-x86_64.tar.gz/download"
   ]
  },
  {
   "cell_type": "markdown",
   "metadata": {},
   "source": [
    "tar zxvf subread-2.0.0-Linux-x86_64.tar.gz"
   ]
  },
  {
   "cell_type": "code",
   "execution_count": 18,
   "metadata": {},
   "outputs": [],
   "source": [
    "cd subread-2.0.0-Linux-x86_64"
   ]
  },
  {
   "cell_type": "code",
   "execution_count": 19,
   "metadata": {},
   "outputs": [
    {
     "name": "stdout",
     "output_type": "stream",
     "text": [
      "\u001b[0m\u001b[01;34mannotation\u001b[0m  \u001b[01;34mbin\u001b[0m  \u001b[01;34mdoc\u001b[0m  LICENSE  README.txt  \u001b[01;34mtest\u001b[0m\n"
     ]
    }
   ],
   "source": [
    "ls"
   ]
  },
  {
   "cell_type": "markdown",
   "metadata": {},
   "source": [
    "ls ./bin/featureCounts\n",
    "./bin/featureCounts"
   ]
  },
  {
   "cell_type": "code",
   "execution_count": 24,
   "metadata": {},
   "outputs": [
    {
     "name": "stdout",
     "output_type": "stream",
     "text": [
      "-rwxrwxrwx 1 root root 511327351 Nov  7 08:49 \u001b[0m\u001b[01;32m/home/jovyan/work/DATA/fastq_cbb520_hw3/pipeline_bwa/genome/Canis_familiaris.CanFam3.1.98.gtf\u001b[0m\u001b[K\n"
     ]
    }
   ],
   "source": [
    "ls -l $GENOME/$GTF"
   ]
  },
  {
   "cell_type": "code",
   "execution_count": 26,
   "metadata": {},
   "outputs": [
    {
     "name": "stdout",
     "output_type": "stream",
     "text": [
      "\n",
      "       \u001b[44;37m ========== \u001b[0m\u001b[36m    _____ _    _ ____  _____  ______          _____  \n",
      "       \u001b[44;37m =====      \u001b[0m\u001b[36m   / ____| |  | |  _ \\|  __ \\|  ____|   /\\   |  __ \\ \n",
      "       \u001b[44;37m   =====    \u001b[0m\u001b[36m  | (___ | |  | | |_) | |__) | |__     /  \\  | |  | |\n",
      "       \u001b[44;37m     ====   \u001b[0m\u001b[36m   \\___ \\| |  | |  _ <|  _  /|  __|   / /\\ \\ | |  | |\n",
      "       \u001b[44;37m       ==== \u001b[0m\u001b[36m   ____) | |__| | |_) | | \\ \\| |____ / ____ \\| |__| |\n",
      "       \u001b[44;37m ========== \u001b[0m\u001b[36m  |_____/ \\____/|____/|_|  \\_\\______/_/    \\_\\_____/\u001b[0m\n",
      "\t  v2.0.0\n",
      "\n",
      "//==========================\u001b[36m featureCounts setting \u001b[0m===========================\\\\\n",
      "||  \u001b[0m                                                                          ||\n",
      "||             Input files : \u001b[36m1 BAM file  \u001b[0m \u001b[0m                                    ||\n",
      "||                           \u001b[32mo\u001b[36m ERR1994755_align_sorted.bam\u001b[0m \u001b[0m                   ||\n",
      "||  \u001b[0m                                                                          ||\n",
      "||             Output file : \u001b[36mERR1994755_featureCounts\u001b[0m \u001b[0m                        ||\n",
      "||                 Summary : \u001b[36mERR1994755_featureCounts.summary\u001b[0m \u001b[0m                ||\n",
      "||              Annotation : \u001b[36mCanis_familiaris.CanFam3.1.98.gtf (GTF)\u001b[0m \u001b[0m         ||\n",
      "||      Dir for temp files : \u001b[36m/home/jovyan/work/DATA/fastq_cbb520_hw3/pipe\u001b[0m ...\u001b[0m \u001b[0m||\n",
      "||  \u001b[0m                                                                          ||\n",
      "||                 Threads : \u001b[36m1\u001b[0m \u001b[0m                                               ||\n",
      "||                   Level : \u001b[36mmeta-feature level\u001b[0m \u001b[0m                              ||\n",
      "||              Paired-end : \u001b[36mno\u001b[0m \u001b[0m                                              ||\n",
      "||      Multimapping reads : \u001b[36mnot counted\u001b[0m \u001b[0m                                     ||\n",
      "||     Multiple alignments : \u001b[36mprimary alignment only\u001b[0m \u001b[0m                          ||\n",
      "|| Multi-overlapping reads : \u001b[36mnot counted\u001b[0m \u001b[0m                                     ||\n",
      "||   Min overlapping bases : \u001b[36m1\u001b[0m \u001b[0m                                               ||\n",
      "||  \u001b[0m                                                                          ||\n",
      "\\\\============================================================================//\n",
      "\n",
      "//=================================\u001b[36m Running \u001b[0m==================================\\\\\n",
      "||  \u001b[0m                                                                          ||\n",
      "|| Load annotation file Canis_familiaris.CanFam3.1.98.gtf \u001b[0m... \u001b[0m                ||\n",
      "||    Features : \u001b[36m600866\u001b[0m \u001b[0m                                                      ||\n",
      "||    Meta-features : \u001b[36m30951\u001b[0m \u001b[0m                                                  ||\n",
      "||    Chromosomes/contigs : \u001b[36m350\u001b[0m \u001b[0m                                              ||\n",
      "||  \u001b[0m                                                                          ||\n",
      "|| Process BAM file ERR1994755_align_sorted.bam... \u001b[0m                           ||\n",
      "||    Single-end reads are included. \u001b[0m                                         ||\n",
      "||    Total alignments : \u001b[36m1249986\u001b[0m \u001b[0m                                             ||\n",
      "||    Successfully assigned alignments : \u001b[36m3411 (0.3%)\u001b[0m \u001b[0m                         ||\n",
      "||    Running time : \u001b[36m0.01 minutes\u001b[0m \u001b[0m                                            ||\n",
      "||  \u001b[0m                                                                          ||\n",
      "||  \u001b[0m                                                                          ||\n",
      "|| Summary of counting results can be found in file \"/home/jovyan/work/DATA/ \u001b[0m ||\n",
      "|| fastq_cbb520_hw3/pipeline_bwa/out_bwa/ERR1994755_featureCounts.summary\" \u001b[0m   ||\n",
      "||  \u001b[0m                                                                          ||\n",
      "\\\\============================================================================//\n",
      "\n"
     ]
    }
   ],
   "source": [
    "./bin/featureCounts \\\n",
    "    --primary \\\n",
    "    -C \\\n",
    "    -t exon \\\n",
    "    -g gene_id \\\n",
    "    -a $GENOME/$GTF \\\n",
    "    -o $OUT_BWA/ERR1994755_featureCounts \\\n",
    "    $OUT_BWA/ERR1994755_align_sorted.bam"
   ]
  },
  {
   "cell_type": "code",
   "execution_count": 27,
   "metadata": {},
   "outputs": [
    {
     "name": "stdout",
     "output_type": "stream",
     "text": [
      "# Program:featureCounts v2.0.0; Command:\"./bin/featureCounts\" \"--primary\" \"-C\" \"-t\" \"exon\" \"-g\" \"gene_id\" \"-a\" \"/home/jovyan/work/DATA/fastq_cbb520_hw3/pipeline_bwa/genome/Canis_familiaris.CanFam3.1.98.gtf\" \"-o\" \"/home/jovyan/work/DATA/fastq_cbb520_hw3/pipeline_bwa/out_bwa/ERR1994755_featureCounts\" \"/home/jovyan/work/DATA/fastq_cbb520_hw3/pipeline_bwa/out_bwa/ERR1994755_align_sorted.bam\" \n",
      "Geneid\tChr\tStart\tEnd\tStrand\tLength\t/home/jovyan/work/DATA/fastq_cbb520_hw3/pipeline_bwa/out_bwa/ERR1994755_align_sorted.bam\n",
      "ENSCAFG00000039510\tX;X;X;X;X\t21422;22404;22892;24188;24188\t21872;23040;23040;24593;25435\t+;+;+;+;+\t2336\t0\n",
      "ENSCAFG00000029674\tX;X;X;X;X;X;X;X;X;X;X;X;X;X;X;X;X;X;X;X;X;X;X;X\t28152;28152;30806;30806;30980;30980;32685;32685;32969;32969;33475;34794;34832;35150;36873;36881;37806;37806;38135;38135;46873;46873;64421;64421\t28570;28570;30912;30912;31098;31098;32860;32860;33048;33058;33523;35042;34988;35172;36959;36959;37908;37908;38238;38238;47058;47058;65551;65551\t-;-;-;-;-;-;-;-;-;-;-;-;-;-;-;-;-;-;-;-;-;-;-;-\t2843\t0\n",
      "ENSCAFG00000041875\tX;X;X;X;X\t66698;75111;77064;77064;77703\t66995;75668;77214;77743;77743\t+;+;+;+;+\t1536\t0\n",
      "ENSCAFG00000044010\tX;X\t119141;121141\t119643;122206\t+;+\t1569\t0\n",
      "ENSCAFG00000041333\tX\t201984\t202346\t-\t363\t0\n",
      "ENSCAFG00000035286\tX;X\t226042;228278\t226900;228835\t-;-\t1417\t0\n",
      "ENSCAFG00000010945\tX;X;X;X;X;X;X;X;X;X;X;X;X;X;X;X;X;X;X;X;X;X;X;X;X;X;X;X;X;X;X;X;X;X;X;X;X;X;X;X;X;X;X;X;X;X;X;X;X;X;X;X\t238928;248520;251577;251577;256479;256479;256479;256479;266505;266505;266505;266505;266835;266835;266835;266835;267770;267783;267783;267783;268593;268593;268593;268593;269709;269709;269709;269709;271174;271174;271174;271174;271639;271639;271639;271639;271837;271837;271837;271837;273613;273613;273613;273613;273730;273799;273799;273799;273799;276140;276140;276140\t239430;248780;252260;252260;256664;256664;256664;256664;266608;266608;266608;266608;266937;266937;266937;266924;267857;267857;267857;267857;268679;268679;268679;268679;269865;269865;269865;269865;271222;271222;271222;271222;271728;271728;271728;271728;272012;272012;272012;272012;273731;273662;273731;273731;273731;273905;274069;273905;273905;276558;276558;276558\t+;+;+;+;+;+;+;+;+;+;+;+;+;+;+;+;+;+;+;+;+;+;+;+;+;+;+;+;+;+;+;+;+;+;+;+;+;+;+;+;+;+;+;+;+;+;+;+;+;+;+;+\t3297\t0\n",
      "ENSCAFG00000028761\tX;X;X;X;X;X;X;X;X;X;X;X;X;X;X;X;X;X;X;X;X;X;X;X;X;X;X;X;X;X;X;X;X;X;X;X;X;X;X;X;X;X;X;X;X;X;X;X;X;X;X;X;X;X;X;X;X;X;X;X;X;X;X\t277800;277800;278645;278645;279130;279130;279306;279306;279750;279750;280381;280381;281681;281681;282802;282802;283483;283483;284671;284671;285270;285270;285449;285449;285834;285834;286881;286881;288426;288426;288632;288632;289670;289670;291586;291586;292323;292323;293709;293709;297090;297090;298437;298437;301008;301008;301239;301239;302295;302295;304263;304263;307376;307376;309425;309425;310474;310474;312096;312096;313031;320985;321752\t277814;277814;278735;278735;279238;279238;279484;279484;279884;279884;280532;280532;281782;281782;282950;282950;283645;283645;284763;284763;285350;285350;285536;285536;285910;285910;287087;287087;288515;288515;288724;288724;289773;289773;291700;291700;292434;292434;293816;293816;297169;297169;298535;298535;301131;301131;301312;301312;302446;302446;304467;304467;307447;307447;309501;309501;310570;310570;312248;312449;313156;321048;321756\t-;-;-;-;-;-;-;-;-;-;-;-;-;-;-;-;-;-;-;-;-;-;-;-;-;-;-;-;-;-;-;-;-;-;-;-;-;-;-;-;-;-;-;-;-;-;-;-;-;-;-;-;-;-;-;-;-;-;-;-;-;-;-\t3792\t0\n"
     ]
    }
   ],
   "source": [
    "head $OUT_BWA/ERR1994755_featureCounts"
   ]
  },
  {
   "cell_type": "code",
   "execution_count": 28,
   "metadata": {},
   "outputs": [
    {
     "name": "stdout",
     "output_type": "stream",
     "text": [
      "Status\t/home/jovyan/work/DATA/fastq_cbb520_hw3/pipeline_bwa/out_bwa/ERR1994755_align_sorted.bam\n",
      "Assigned\t3411\n",
      "Unassigned_Unmapped\t1245269\n",
      "Unassigned_Read_Type\t0\n",
      "Unassigned_Singleton\t0\n",
      "Unassigned_MappingQuality\t0\n",
      "Unassigned_Chimera\t0\n",
      "Unassigned_FragmentLength\t0\n",
      "Unassigned_Duplicate\t0\n",
      "Unassigned_MultiMapping\t0\n"
     ]
    }
   ],
   "source": [
    "head $OUT_BWA/ERR1994755_featureCounts.summary"
   ]
  },
  {
   "cell_type": "code",
   "execution_count": 29,
   "metadata": {},
   "outputs": [
    {
     "name": "stdout",
     "output_type": "stream",
     "text": [
      "30953 /home/jovyan/work/DATA/fastq_cbb520_hw3/pipeline_bwa/out_bwa/ERR1994755_featureCounts\n"
     ]
    }
   ],
   "source": [
    "wc -l $OUT_BWA/ERR1994755_featureCounts "
   ]
  },
  {
   "cell_type": "code",
   "execution_count": 46,
   "metadata": {},
   "outputs": [],
   "source": [
    "tail -n +2 $OUT_BWA/ERR1994755_featureCounts | cut -d$'\\t' -f1,7 > $QUT_COUNT/ERR1994755.txt"
   ]
  },
  {
   "cell_type": "code",
   "execution_count": 47,
   "metadata": {},
   "outputs": [
    {
     "name": "stdout",
     "output_type": "stream",
     "text": [
      "\u001b[0m\u001b[01;32mERR1994755.txt\u001b[0m\n"
     ]
    }
   ],
   "source": [
    "ls $QUT_COUNT"
   ]
  },
  {
   "cell_type": "code",
   "execution_count": 49,
   "metadata": {},
   "outputs": [
    {
     "name": "stdout",
     "output_type": "stream",
     "text": [
      "/home/jovyan/work/DATA/fastq_cbb520_hw3/pipeline_bwa/out_count\n"
     ]
    }
   ],
   "source": [
    "echo $QUT_COUNT"
   ]
  },
  {
   "cell_type": "code",
   "execution_count": 65,
   "metadata": {},
   "outputs": [
    {
     "name": "stdout",
     "output_type": "stream",
     "text": [
      "MT\tRefSeq\tgene\t1\t69\t.\t+\t.\tgene_id \"ENSCAFG00000022708\"; gene_version \"1\"; gene_source \"RefSeq\"; gene_biotype \"Mt_tRNA\";\n",
      "MT\tRefSeq\ttranscript\t1\t69\t.\t+\t.\tgene_id \"ENSCAFG00000022708\"; gene_version \"1\"; transcript_id \"ENSCAFT00000034815\"; transcript_version \"1\"; gene_source \"RefSeq\"; gene_biotype \"Mt_tRNA\"; transcript_source \"RefSeq\"; transcript_biotype \"Mt_tRNA\";\n",
      "MT\tRefSeq\texon\t1\t69\t.\t+\t.\tgene_id \"ENSCAFG00000022708\"; gene_version \"1\"; transcript_id \"ENSCAFT00000034815\"; transcript_version \"1\"; exon_number \"1\"; gene_source \"RefSeq\"; gene_biotype \"Mt_tRNA\"; transcript_source \"RefSeq\"; transcript_biotype \"Mt_tRNA\"; exon_id \"ENSCAFE00000226324\"; exon_version \"1\";\n",
      "MT\tRefSeq\tgene\t70\t1023\t.\t+\t.\tgene_id \"ENSCAFG00000022709\"; gene_version \"1\"; gene_source \"RefSeq\"; gene_biotype \"Mt_rRNA\";\n",
      "MT\tRefSeq\ttranscript\t70\t1023\t.\t+\t.\tgene_id \"ENSCAFG00000022709\"; gene_version \"1\"; transcript_id \"ENSCAFT00000034816\"; transcript_version \"1\"; gene_source \"RefSeq\"; gene_biotype \"Mt_rRNA\"; transcript_source \"RefSeq\"; transcript_biotype \"Mt_rRNA\";\n",
      "MT\tRefSeq\texon\t70\t1023\t.\t+\t.\tgene_id \"ENSCAFG00000022709\"; gene_version \"1\"; transcript_id \"ENSCAFT00000034816\"; transcript_version \"1\"; exon_number \"1\"; gene_source \"RefSeq\"; gene_biotype \"Mt_rRNA\"; transcript_source \"RefSeq\"; transcript_biotype \"Mt_rRNA\"; exon_id \"ENSCAFE00000226325\"; exon_version \"1\";\n",
      "MT\tRefSeq\tgene\t1024\t1090\t.\t+\t.\tgene_id \"ENSCAFG00000022710\"; gene_version \"1\"; gene_source \"RefSeq\"; gene_biotype \"Mt_tRNA\";\n",
      "MT\tRefSeq\ttranscript\t1024\t1090\t.\t+\t.\tgene_id \"ENSCAFG00000022710\"; gene_version \"1\"; transcript_id \"ENSCAFT00000034817\"; transcript_version \"1\"; gene_source \"RefSeq\"; gene_biotype \"Mt_tRNA\"; transcript_source \"RefSeq\"; transcript_biotype \"Mt_tRNA\";\n",
      "MT\tRefSeq\texon\t1024\t1090\t.\t+\t.\tgene_id \"ENSCAFG00000022710\"; gene_version \"1\"; transcript_id \"ENSCAFT00000034817\"; transcript_version \"1\"; exon_number \"1\"; gene_source \"RefSeq\"; gene_biotype \"Mt_tRNA\"; transcript_source \"RefSeq\"; transcript_biotype \"Mt_tRNA\"; exon_id \"ENSCAFE00000226326\"; exon_version \"1\";\n",
      "MT\tRefSeq\tgene\t1091\t2670\t.\t+\t.\tgene_id \"ENSCAFG00000022711\"; gene_version \"1\"; gene_source \"RefSeq\"; gene_biotype \"Mt_rRNA\";\n",
      "grep: write error: Broken pipe\n"
     ]
    }
   ],
   "source": [
    "cat $GENOME/$GTF | grep \"^MT\" | head"
   ]
  },
  {
   "cell_type": "code",
   "execution_count": 66,
   "metadata": {},
   "outputs": [
    {
     "name": "stdout",
     "output_type": "stream",
     "text": [
      "\u001b[0m\u001b[01;32mERR1994755_alignment.sam\u001b[0m         \u001b[01;32mERR1994755_featureCounts\u001b[0m\n",
      "\u001b[01;32mERR1994755_align_sorted.bam\u001b[0m      \u001b[01;32mERR1994755_featureCounts.summary\u001b[0m\n",
      "\u001b[01;32mERR1994755_align_sorted.bam.bai\u001b[0m\n"
     ]
    }
   ],
   "source": [
    "ls $OUT_BWA"
   ]
  }
 ],
 "metadata": {
  "kernelspec": {
   "display_name": "Bash",
   "language": "bash",
   "name": "bash"
  },
  "language_info": {
   "codemirror_mode": "shell",
   "file_extension": ".sh",
   "mimetype": "text/x-sh",
   "name": "bash"
  }
 },
 "nbformat": 4,
 "nbformat_minor": 2
}
