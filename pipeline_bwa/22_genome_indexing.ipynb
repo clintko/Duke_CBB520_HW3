{
 "cells": [
  {
   "cell_type": "code",
   "execution_count": 1,
   "metadata": {},
   "outputs": [],
   "source": [
    "source config.sh"
   ]
  },
  {
   "cell_type": "code",
   "execution_count": 2,
   "metadata": {},
   "outputs": [
    {
     "name": "stdout",
     "output_type": "stream",
     "text": [
      "\u001b[0m\u001b[01;32mCanis_familiaris.CanFam3.1.98.gtf\u001b[0m\n",
      "\u001b[01;32mCanis_familiaris.CanFam3.1.dna.chromosome.MT.fa\u001b[0m\n"
     ]
    }
   ],
   "source": [
    "ls ${GENOME}"
   ]
  },
  {
   "cell_type": "code",
   "execution_count": 3,
   "metadata": {},
   "outputs": [
    {
     "name": "stdout",
     "output_type": "stream",
     "text": [
      "Canis_familiaris.CanFam3.1.dna.chromosome.MT.fa\n"
     ]
    }
   ],
   "source": [
    "echo $FA"
   ]
  },
  {
   "cell_type": "code",
   "execution_count": 6,
   "metadata": {},
   "outputs": [
    {
     "name": "stdout",
     "output_type": "stream",
     "text": [
      "/home/jovyan/work/DATA/fastq_cbb520_hw3/pipeline_bwa/genome\n"
     ]
    }
   ],
   "source": [
    "echo $GENOME"
   ]
  },
  {
   "cell_type": "code",
   "execution_count": 7,
   "metadata": {},
   "outputs": [
    {
     "name": "stdout",
     "output_type": "stream",
     "text": [
      "[bwa_index] Pack FASTA... 0.00 sec\n",
      "[bwa_index] Construct BWT for the packed sequence...\n",
      "[BWTIncCreate] textLength=33454, availableWord=65536\n",
      "[bwt_gen] Finished constructing BWT in 3 iterations.\n",
      "[bwa_index] 0.01 seconds elapse.\n",
      "[bwa_index] Update BWT... 0.00 sec\n",
      "[bwa_index] Pack forward-only FASTA... 0.00 sec\n",
      "[bwa_index] Construct SA from BWT and Occ... 0.01 sec\n",
      "[main] Version: 0.7.17-r1198-dirty\n",
      "[main] CMD: bwa index -a bwtsw /home/jovyan/work/DATA/fastq_cbb520_hw3/pipeline_bwa/genome/Canis_familiaris.CanFam3.1.dna.chromosome.MT.fa\n",
      "[main] Real time: 0.580 sec; CPU: 0.022 sec\n"
     ]
    }
   ],
   "source": [
    "bwa index -a bwtsw ${GENOME}/${FA}"
   ]
  },
  {
   "cell_type": "code",
   "execution_count": 8,
   "metadata": {},
   "outputs": [
    {
     "name": "stdout",
     "output_type": "stream",
     "text": [
      "\u001b[0m\u001b[01;32mCanis_familiaris.CanFam3.1.98.gtf\u001b[0m\n",
      "\u001b[01;32mCanis_familiaris.CanFam3.1.dna.chromosome.MT.fa\u001b[0m\n",
      "\u001b[01;32mCanis_familiaris.CanFam3.1.dna.chromosome.MT.fa.amb\u001b[0m\n",
      "\u001b[01;32mCanis_familiaris.CanFam3.1.dna.chromosome.MT.fa.ann\u001b[0m\n",
      "\u001b[01;32mCanis_familiaris.CanFam3.1.dna.chromosome.MT.fa.bwt\u001b[0m\n",
      "\u001b[01;32mCanis_familiaris.CanFam3.1.dna.chromosome.MT.fa.pac\u001b[0m\n",
      "\u001b[01;32mCanis_familiaris.CanFam3.1.dna.chromosome.MT.fa.sa\u001b[0m\n"
     ]
    }
   ],
   "source": [
    "ls ${GENOME}"
   ]
  }
 ],
 "metadata": {
  "kernelspec": {
   "display_name": "Bash",
   "language": "bash",
   "name": "bash"
  },
  "language_info": {
   "codemirror_mode": "shell",
   "file_extension": ".sh",
   "mimetype": "text/x-sh",
   "name": "bash"
  }
 },
 "nbformat": 4,
 "nbformat_minor": 2
}
